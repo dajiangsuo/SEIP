{
 "cells": [
  {
   "cell_type": "code",
   "execution_count": 1,
   "id": "adb099ef",
   "metadata": {},
   "outputs": [],
   "source": [
    "import numpy as np"
   ]
  },
  {
   "cell_type": "code",
   "execution_count": 2,
   "id": "149c4013",
   "metadata": {},
   "outputs": [],
   "source": [
    "pcl = np.array([1,2,3,4,5,6,7,8,9,10,11,12,13,14,15,16,17,18,19,20])"
   ]
  },
  {
   "cell_type": "code",
   "execution_count": 3,
   "id": "834b8237",
   "metadata": {},
   "outputs": [],
   "source": [
    "pcl = np.reshape(pcl,(5,4))"
   ]
  },
  {
   "cell_type": "code",
   "execution_count": 4,
   "id": "1a84ba93",
   "metadata": {},
   "outputs": [
    {
     "data": {
      "text/plain": [
       "array([[ 1,  2,  3,  4],\n",
       "       [ 5,  6,  7,  8],\n",
       "       [ 9, 10, 11, 12],\n",
       "       [13, 14, 15, 16],\n",
       "       [17, 18, 19, 20]])"
      ]
     },
     "execution_count": 4,
     "metadata": {},
     "output_type": "execute_result"
    }
   ],
   "source": [
    "pcl"
   ]
  },
  {
   "cell_type": "code",
   "execution_count": 5,
   "id": "d02d9359",
   "metadata": {},
   "outputs": [],
   "source": [
    "pcl_pad = np.pad(pcl,((0,3),(0,0)),mode='constant')"
   ]
  },
  {
   "cell_type": "code",
   "execution_count": 6,
   "id": "8d9f0637",
   "metadata": {},
   "outputs": [
    {
     "data": {
      "text/plain": [
       "array([[ 1,  2,  3,  4],\n",
       "       [ 5,  6,  7,  8],\n",
       "       [ 9, 10, 11, 12],\n",
       "       [13, 14, 15, 16],\n",
       "       [17, 18, 19, 20],\n",
       "       [ 0,  0,  0,  0],\n",
       "       [ 0,  0,  0,  0],\n",
       "       [ 0,  0,  0,  0]])"
      ]
     },
     "execution_count": 6,
     "metadata": {},
     "output_type": "execute_result"
    }
   ],
   "source": [
    "pcl_pad"
   ]
  },
  {
   "cell_type": "code",
   "execution_count": null,
   "id": "2dc5390b",
   "metadata": {},
   "outputs": [],
   "source": []
  }
 ],
 "metadata": {
  "kernelspec": {
   "display_name": "Python 3 (ipykernel)",
   "language": "python",
   "name": "python3"
  },
  "language_info": {
   "codemirror_mode": {
    "name": "ipython",
    "version": 3
   },
   "file_extension": ".py",
   "mimetype": "text/x-python",
   "name": "python",
   "nbconvert_exporter": "python",
   "pygments_lexer": "ipython3",
   "version": "3.9.12"
  }
 },
 "nbformat": 4,
 "nbformat_minor": 5
}
